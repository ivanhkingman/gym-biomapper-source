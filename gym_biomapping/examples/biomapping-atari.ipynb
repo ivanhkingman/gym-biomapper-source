{
 "cells": [
  {
   "cell_type": "code",
   "execution_count": 1,
   "metadata": {
    "scrolled": false
   },
   "outputs": [
    {
     "name": "stderr",
     "output_type": "stream",
     "text": [
      "Using TensorFlow backend.\n"
     ]
    }
   ],
   "source": [
    "%matplotlib widget\n",
    "import datetime\n",
    "import tensorflow as tf\n",
    "import numpy as np\n",
    "import pandas as pd\n",
    "import xarray as xr\n",
    "import time\n",
    "import gym\n",
    "import matplotlib.pyplot as plt\n",
    "import cmocean\n",
    "#from simple_agent import SimpleAtariAgent\n",
    "from tqdm import tqdm\n",
    "import random\n",
    "import dqn_agent"
   ]
  },
  {
   "cell_type": "code",
   "execution_count": 2,
   "metadata": {
    "scrolled": false
   },
   "outputs": [
    {
     "data": {
      "application/vnd.jupyter.widget-view+json": {
       "model_id": "64ffc44d724648da899a2dc2bf0d5618",
       "version_major": 2,
       "version_minor": 0
      },
      "text/plain": [
       "Canvas(toolbar=Toolbar(toolitems=[('Home', 'Reset original view', 'home', 'home'), ('Back', 'Back to previous …"
      ]
     },
     "metadata": {},
     "output_type": "display_data"
    },
    {
     "data": {
      "application/vnd.jupyter.widget-view+json": {
       "model_id": "d5cf3e8f9a834143ab357d558f69e12d",
       "version_major": 2,
       "version_minor": 0
      },
      "text/plain": [
       "Canvas(toolbar=Toolbar(toolitems=[('Home', 'Reset original view', 'home', 'home'), ('Back', 'Back to previous …"
      ]
     },
     "metadata": {},
     "output_type": "display_data"
    },
    {
     "name": "stdout",
     "output_type": "stream",
     "text": [
      "WARNING:tensorflow:From c:\\users\\marte\\.conda\\envs\\tensorflow\\lib\\site-packages\\tensorflow_core\\python\\ops\\resource_variable_ops.py:1630: calling BaseResourceVariable.__init__ (from tensorflow.python.ops.resource_variable_ops) with constraint is deprecated and will be removed in a future version.\n",
      "Instructions for updating:\n",
      "If using Keras pass *_constraint arguments to layers.\n",
      "WARNING:tensorflow:From c:\\users\\marte\\.conda\\envs\\tensorflow\\lib\\site-packages\\keras\\backend\\tensorflow_backend.py:4070: The name tf.nn.max_pool is deprecated. Please use tf.nn.max_pool2d instead.\n",
      "\n"
     ]
    }
   ],
   "source": [
    "env = gym.make('gym_biomapping:perfect_info_atari-v0', static=True, output='3D-matrix', generate_data=True)\n",
    "agent = dqn_agent.DQNAgent(env, input=\"3D-matrix\")"
   ]
  },
  {
   "cell_type": "code",
   "execution_count": 3,
   "metadata": {
    "scrolled": false
   },
   "outputs": [],
   "source": [
    "obs = env.reset()\n",
    "next_action = agent.deliberate(obs)\n",
    "agent.render(obs, next_action)\n",
    "env.render()"
   ]
  },
  {
   "cell_type": "code",
   "execution_count": null,
   "metadata": {
    "scrolled": false
   },
   "outputs": [],
   "source": [
    "done = False\n",
    "while not done:\n",
    "    obs, reward, done, info = env.step(next_action)\n",
    "    #next_pos = agent.deliberate(obs)\n",
    "    agent.render(obs, next_action)\n",
    "    env.render()"
   ]
  },
  {
   "cell_type": "code",
   "execution_count": 4,
   "metadata": {
    "scrolled": false
   },
   "outputs": [],
   "source": [
    "# For more reproduceable results, but consider changing\n",
    "random.seed(1)\n",
    "np.random.seed(1)\n",
    "tf.set_random_seed(1)"
   ]
  },
  {
   "cell_type": "code",
   "execution_count": 6,
   "metadata": {
    "scrolled": false
   },
   "outputs": [],
   "source": [
    "env.reset()\n",
    "env.render()"
   ]
  },
  {
   "cell_type": "code",
   "execution_count": 5,
   "metadata": {
    "scrolled": true
   },
   "outputs": [
    {
     "name": "stderr",
     "output_type": "stream",
     "text": [
      "\r",
      "  0%|                                    | 0/200 [00:00<?, ?episodes/s]"
     ]
    },
    {
     "name": "stdout",
     "output_type": "stream",
     "text": [
      "AUV is out of bounds\n",
      "Episode reward:  -1000\n",
      "WARNING:tensorflow:From c:\\users\\marte\\.conda\\envs\\tensorflow\\lib\\site-packages\\keras\\callbacks\\tensorboard_v1.py:343: The name tf.Summary is deprecated. Please use tf.compat.v1.Summary instead.\n",
      "\n"
     ]
    },
    {
     "name": "stderr",
     "output_type": "stream",
     "text": [
      "\r",
      "  0%|1                           | 1/200 [00:13<44:46, 13.50s/episodes]"
     ]
    },
    {
     "name": "stdout",
     "output_type": "stream",
     "text": [
      "WARNING:tensorflow:From c:\\users\\marte\\.conda\\envs\\tensorflow\\lib\\site-packages\\keras\\backend\\tensorflow_backend.py:422: The name tf.global_variables is deprecated. Please use tf.compat.v1.global_variables instead.\n",
      "\n"
     ]
    },
    {
     "name": "stderr",
     "output_type": "stream",
     "text": [
      "\r",
      "  1%|2                           | 2/200 [00:27<44:55, 13.61s/episodes]"
     ]
    },
    {
     "name": "stdout",
     "output_type": "stream",
     "text": [
      "AUV is out of bounds\n",
      "Episode reward:  -463.9144014120102\n"
     ]
    },
    {
     "name": "stderr",
     "output_type": "stream",
     "text": [
      "\r",
      "  2%|4                           | 3/200 [00:40<44:26, 13.54s/episodes]"
     ]
    },
    {
     "name": "stdout",
     "output_type": "stream",
     "text": [
      "AUV is out of bounds\n",
      "Episode reward:  -1000\n"
     ]
    },
    {
     "name": "stderr",
     "output_type": "stream",
     "text": [
      "\r",
      "  2%|5                           | 4/200 [00:54<44:33, 13.64s/episodes]"
     ]
    },
    {
     "name": "stdout",
     "output_type": "stream",
     "text": [
      "AUV is out of bounds\n",
      "Episode reward:  -682.969554901123\n"
     ]
    },
    {
     "name": "stderr",
     "output_type": "stream",
     "text": [
      "\r",
      "  2%|7                           | 5/200 [01:08<44:17, 13.63s/episodes]"
     ]
    },
    {
     "name": "stdout",
     "output_type": "stream",
     "text": [
      "AUV is out of bounds\n",
      "Episode reward:  -849.6174182891846\n"
     ]
    },
    {
     "name": "stderr",
     "output_type": "stream",
     "text": [
      "\r",
      "  3%|8                           | 6/200 [01:21<43:40, 13.51s/episodes]"
     ]
    },
    {
     "name": "stdout",
     "output_type": "stream",
     "text": [
      "AUV is out of bounds\n",
      "Episode reward:  -937.3925476074219\n"
     ]
    },
    {
     "name": "stderr",
     "output_type": "stream",
     "text": [
      "\r",
      "  4%|9                           | 7/200 [01:35<43:48, 13.62s/episodes]"
     ]
    },
    {
     "name": "stdout",
     "output_type": "stream",
     "text": [
      "AUV is out of bounds\n",
      "Episode reward:  -858.7055225372314\n"
     ]
    },
    {
     "name": "stderr",
     "output_type": "stream",
     "text": [
      "\r",
      "  4%|#1                          | 8/200 [01:49<43:41, 13.65s/episodes]"
     ]
    },
    {
     "name": "stdout",
     "output_type": "stream",
     "text": [
      "AUV is out of bounds\n",
      "Episode reward:  -907.1983661651611\n"
     ]
    },
    {
     "name": "stderr",
     "output_type": "stream",
     "text": [
      "\r",
      "  4%|#2                          | 9/200 [02:02<43:23, 13.63s/episodes]"
     ]
    },
    {
     "name": "stdout",
     "output_type": "stream",
     "text": [
      "AUV is out of bounds\n",
      "Episode reward:  -908.2141265869141\n"
     ]
    },
    {
     "name": "stderr",
     "output_type": "stream",
     "text": [
      "\r",
      "  5%|#3                         | 10/200 [02:16<43:04, 13.60s/episodes]"
     ]
    },
    {
     "name": "stdout",
     "output_type": "stream",
     "text": [
      "AUV is out of bounds\n",
      "Episode reward:  -1000\n"
     ]
    },
    {
     "name": "stderr",
     "output_type": "stream",
     "text": [
      "\r",
      "  6%|#4                         | 11/200 [02:29<42:44, 13.57s/episodes]"
     ]
    },
    {
     "name": "stdout",
     "output_type": "stream",
     "text": [
      "AUV is out of bounds\n",
      "Episode reward:  -926.8247184753418\n"
     ]
    },
    {
     "name": "stderr",
     "output_type": "stream",
     "text": [
      "\r",
      "  6%|#6                         | 12/200 [02:43<42:53, 13.69s/episodes]"
     ]
    },
    {
     "name": "stdout",
     "output_type": "stream",
     "text": [
      "AUV is out of bounds\n",
      "Episode reward:  -938.9627647399902\n"
     ]
    },
    {
     "name": "stderr",
     "output_type": "stream",
     "text": [
      "\r",
      "  6%|#7                         | 13/200 [02:57<42:29, 13.63s/episodes]"
     ]
    },
    {
     "name": "stdout",
     "output_type": "stream",
     "text": [
      "AUV is out of bounds\n",
      "Episode reward:  -910.6674346923828\n"
     ]
    },
    {
     "name": "stderr",
     "output_type": "stream",
     "text": [
      "\r",
      "  7%|#8                         | 14/200 [03:10<41:57, 13.54s/episodes]"
     ]
    },
    {
     "name": "stdout",
     "output_type": "stream",
     "text": [
      "AUV is out of bounds\n",
      "Episode reward:  -1000\n"
     ]
    },
    {
     "name": "stderr",
     "output_type": "stream",
     "text": [
      "\r",
      "  8%|##                         | 15/200 [03:24<42:11, 13.68s/episodes]"
     ]
    },
    {
     "name": "stdout",
     "output_type": "stream",
     "text": [
      "AUV is out of bounds\n",
      "Episode reward:  -706.4510650634766\n"
     ]
    },
    {
     "name": "stderr",
     "output_type": "stream",
     "text": [
      "\r",
      "  8%|##1                        | 16/200 [03:38<41:56, 13.68s/episodes]"
     ]
    },
    {
     "name": "stdout",
     "output_type": "stream",
     "text": [
      "AUV is out of bounds\n",
      "Episode reward:  -1000\n"
     ]
    },
    {
     "name": "stderr",
     "output_type": "stream",
     "text": [
      "\r",
      "  8%|##2                        | 17/200 [03:51<41:44, 13.68s/episodes]"
     ]
    },
    {
     "name": "stdout",
     "output_type": "stream",
     "text": [
      "AUV is out of bounds\n",
      "Episode reward:  -984.6323595046997\n"
     ]
    },
    {
     "name": "stderr",
     "output_type": "stream",
     "text": [
      "\r",
      "  9%|##4                        | 18/200 [04:05<41:07, 13.56s/episodes]"
     ]
    },
    {
     "name": "stdout",
     "output_type": "stream",
     "text": [
      "AUV is out of bounds\n",
      "Episode reward:  -1000\n"
     ]
    },
    {
     "name": "stderr",
     "output_type": "stream",
     "text": [
      "\r",
      " 10%|##5                        | 19/200 [04:19<41:25, 13.73s/episodes]"
     ]
    },
    {
     "name": "stdout",
     "output_type": "stream",
     "text": [
      "AUV is out of bounds\n",
      "Episode reward:  -969.7431163787842\n"
     ]
    },
    {
     "name": "stderr",
     "output_type": "stream",
     "text": [
      "\r",
      " 10%|##7                        | 20/200 [04:33<41:15, 13.75s/episodes]"
     ]
    },
    {
     "name": "stdout",
     "output_type": "stream",
     "text": [
      "AUV is out of bounds\n",
      "Episode reward:  -794.2027587890625\n"
     ]
    },
    {
     "name": "stderr",
     "output_type": "stream",
     "text": [
      "\r",
      " 10%|##8                        | 21/200 [04:46<40:29, 13.57s/episodes]"
     ]
    },
    {
     "name": "stdout",
     "output_type": "stream",
     "text": [
      "AUV is out of bounds\n",
      "Episode reward:  -1000\n"
     ]
    },
    {
     "name": "stderr",
     "output_type": "stream",
     "text": [
      "\r",
      " 11%|##9                        | 22/200 [04:59<40:00, 13.48s/episodes]"
     ]
    },
    {
     "name": "stdout",
     "output_type": "stream",
     "text": [
      "AUV is out of bounds\n",
      "Episode reward:  -1000\n"
     ]
    },
    {
     "name": "stderr",
     "output_type": "stream",
     "text": [
      "\r",
      " 12%|###1                       | 23/200 [05:12<39:41, 13.46s/episodes]"
     ]
    },
    {
     "name": "stdout",
     "output_type": "stream",
     "text": [
      "AUV is out of bounds\n",
      "Episode reward:  -1000\n"
     ]
    },
    {
     "name": "stderr",
     "output_type": "stream",
     "text": [
      "\r",
      " 12%|###2                       | 24/200 [05:26<39:44, 13.55s/episodes]"
     ]
    },
    {
     "name": "stdout",
     "output_type": "stream",
     "text": [
      "AUV is out of bounds\n",
      "Episode reward:  -1000\n"
     ]
    },
    {
     "name": "stderr",
     "output_type": "stream",
     "text": [
      "\r",
      " 12%|###3                       | 25/200 [05:40<39:49, 13.66s/episodes]"
     ]
    },
    {
     "name": "stdout",
     "output_type": "stream",
     "text": [
      "AUV is out of bounds\n",
      "Episode reward:  -1000\n"
     ]
    },
    {
     "name": "stderr",
     "output_type": "stream",
     "text": [
      "\r",
      " 13%|###5                       | 26/200 [05:53<39:24, 13.59s/episodes]"
     ]
    },
    {
     "name": "stdout",
     "output_type": "stream",
     "text": [
      "AUV is out of bounds\n",
      "Episode reward:  -1000\n"
     ]
    },
    {
     "name": "stderr",
     "output_type": "stream",
     "text": [
      "\r",
      " 14%|###6                       | 27/200 [06:07<39:00, 13.53s/episodes]"
     ]
    },
    {
     "name": "stdout",
     "output_type": "stream",
     "text": [
      "AUV is out of bounds\n",
      "Episode reward:  -1000\n"
     ]
    },
    {
     "name": "stderr",
     "output_type": "stream",
     "text": [
      "\r",
      " 14%|###7                       | 28/200 [06:20<38:50, 13.55s/episodes]"
     ]
    },
    {
     "name": "stdout",
     "output_type": "stream",
     "text": [
      "AUV is out of bounds\n",
      "Episode reward:  -1000\n",
      "Replay-memory sufficiently large - Started using neural network\n",
      "AUV is out of bounds\n"
     ]
    },
    {
     "name": "stderr",
     "output_type": "stream",
     "text": [
      "\r",
      " 14%|###6                     | 29/200 [11:00<4:26:28, 93.50s/episodes]"
     ]
    },
    {
     "name": "stdout",
     "output_type": "stream",
     "text": [
      "Episode reward:  10463.565761566162\n",
      "AUV is out of bounds\n"
     ]
    },
    {
     "name": "stderr",
     "output_type": "stream",
     "text": [
      "\r",
      " 15%|###6                    | 30/200 [13:13<4:58:07, 105.22s/episodes]"
     ]
    },
    {
     "name": "stdout",
     "output_type": "stream",
     "text": [
      "Episode reward:  1728.8210411071777\n",
      "Episode reached max number of steps\n"
     ]
    },
    {
     "name": "stderr",
     "output_type": "stream",
     "text": [
      "\r",
      " 16%|###5                   | 31/200 [21:48<10:42:43, 228.18s/episodes]"
     ]
    },
    {
     "name": "stdout",
     "output_type": "stream",
     "text": [
      "Episode reward:  15367.546651363373\n",
      "Episode reached max number of steps\n"
     ]
    },
    {
     "name": "stderr",
     "output_type": "stream",
     "text": [
      "\r",
      " 16%|###6                   | 32/200 [30:25<14:41:03, 314.66s/episodes]"
     ]
    },
    {
     "name": "stdout",
     "output_type": "stream",
     "text": [
      "Episode reward:  25705.138778686523\n",
      "Episode reached max number of steps\n"
     ]
    },
    {
     "name": "stderr",
     "output_type": "stream",
     "text": [
      "\r",
      " 16%|###7                   | 33/200 [39:03<17:25:31, 375.64s/episodes]"
     ]
    },
    {
     "name": "stdout",
     "output_type": "stream",
     "text": [
      "Episode reward:  27841.20295715332\n",
      "AUV is out of bounds\n"
     ]
    },
    {
     "name": "stderr",
     "output_type": "stream",
     "text": [
      "\r",
      " 17%|###9                   | 34/200 [39:17<12:19:40, 267.35s/episodes]"
     ]
    },
    {
     "name": "stdout",
     "output_type": "stream",
     "text": [
      "Episode reward:  -1000\n",
      "AUV is out of bounds\n"
     ]
    },
    {
     "name": "stderr",
     "output_type": "stream",
     "text": [
      "\r",
      " 18%|####1                   | 35/200 [39:59<9:09:16, 199.74s/episodes]"
     ]
    },
    {
     "name": "stdout",
     "output_type": "stream",
     "text": [
      "Episode reward:  -716.9193687438965\n",
      "Episode reached max number of steps\n"
     ]
    },
    {
     "name": "stderr",
     "output_type": "stream",
     "text": [
      "\r",
      " 18%|####1                  | 36/200 [48:37<13:27:02, 295.26s/episodes]"
     ]
    },
    {
     "name": "stdout",
     "output_type": "stream",
     "text": [
      "Episode reward:  24876.367546081543\n",
      "Episode reached max number of steps\n"
     ]
    },
    {
     "name": "stderr",
     "output_type": "stream",
     "text": [
      "\r",
      " 18%|####2                  | 37/200 [57:17<16:25:15, 362.67s/episodes]"
     ]
    },
    {
     "name": "stdout",
     "output_type": "stream",
     "text": [
      "Episode reward:  10397.283505439758\n",
      "Episode reached max number of steps\n"
     ]
    },
    {
     "name": "stderr",
     "output_type": "stream",
     "text": [
      "\r",
      " 19%|###9                 | 38/200 [1:05:59<18:28:00, 410.37s/episodes]"
     ]
    },
    {
     "name": "stdout",
     "output_type": "stream",
     "text": [
      "Episode reward:  12197.824716567993\n",
      "Episode reached max number of steps\n"
     ]
    },
    {
     "name": "stderr",
     "output_type": "stream",
     "text": [
      "\r",
      " 20%|####                 | 39/200 [1:14:42<19:51:48, 444.15s/episodes]"
     ]
    },
    {
     "name": "stdout",
     "output_type": "stream",
     "text": [
      "Episode reward:  18519.82664871216\n",
      "Episode reached max number of steps\n"
     ]
    },
    {
     "name": "stderr",
     "output_type": "stream",
     "text": [
      "\r",
      " 20%|####2                | 40/200 [1:23:26<20:47:55, 467.97s/episodes]"
     ]
    },
    {
     "name": "stdout",
     "output_type": "stream",
     "text": [
      "Episode reward:  20384.976528167725\n",
      "Episode reached max number of steps\n"
     ]
    },
    {
     "name": "stderr",
     "output_type": "stream",
     "text": [
      "\r",
      " 20%|####3                | 41/200 [1:32:12<21:26:19, 485.41s/episodes]"
     ]
    },
    {
     "name": "stdout",
     "output_type": "stream",
     "text": [
      "Episode reward:  24026.322647094727\n",
      "AUV is out of bounds\n"
     ]
    },
    {
     "name": "stderr",
     "output_type": "stream",
     "text": [
      "\r",
      " 21%|####4                | 42/200 [1:34:32<16:45:32, 381.85s/episodes]"
     ]
    },
    {
     "name": "stdout",
     "output_type": "stream",
     "text": [
      "Episode reward:  5344.11604309082\n",
      "AUV is out of bounds\n"
     ]
    },
    {
     "name": "stderr",
     "output_type": "stream",
     "text": [
      "\r",
      " 22%|####5                | 43/200 [1:36:03<12:50:57, 294.64s/episodes]"
     ]
    },
    {
     "name": "stdout",
     "output_type": "stream",
     "text": [
      "Episode reward:  62.74634552001953\n",
      "Episode reached max number of steps\n"
     ]
    },
    {
     "name": "stderr",
     "output_type": "stream",
     "text": [
      "\r",
      " 22%|####6                | 44/200 [1:44:49<15:46:34, 364.07s/episodes]"
     ]
    },
    {
     "name": "stdout",
     "output_type": "stream",
     "text": [
      "Episode reward:  13002.30111694336\n",
      "AUV is out of bounds\n"
     ]
    },
    {
     "name": "stderr",
     "output_type": "stream",
     "text": [
      "\r",
      " 22%|####7                | 45/200 [1:45:37<11:35:33, 269.25s/episodes]"
     ]
    },
    {
     "name": "stdout",
     "output_type": "stream",
     "text": [
      "Episode reward:  -1000\n",
      "Episode reached max number of steps\n"
     ]
    },
    {
     "name": "stderr",
     "output_type": "stream",
     "text": [
      "\r",
      " 23%|####8                | 46/200 [1:54:24<14:49:41, 346.63s/episodes]"
     ]
    },
    {
     "name": "stdout",
     "output_type": "stream",
     "text": [
      "Episode reward:  18493.555736541748\n",
      "AUV is out of bounds\n"
     ]
    },
    {
     "name": "stderr",
     "output_type": "stream",
     "text": [
      "\r",
      " 24%|####9                | 47/200 [1:54:59<10:45:19, 253.07s/episodes]"
     ]
    },
    {
     "name": "stdout",
     "output_type": "stream",
     "text": [
      "Episode reward:  -835.1123008728027\n",
      "Episode reached max number of steps\n"
     ]
    },
    {
     "name": "stderr",
     "output_type": "stream",
     "text": [
      "\r",
      " 24%|#####                | 48/200 [2:03:45<14:08:54, 335.09s/episodes]"
     ]
    },
    {
     "name": "stdout",
     "output_type": "stream",
     "text": [
      "Episode reward:  15219.208671569824\n",
      "Episode reached max number of steps\n"
     ]
    },
    {
     "name": "stderr",
     "output_type": "stream",
     "text": [
      "\r",
      " 24%|#####1               | 49/200 [2:12:32<16:27:30, 392.39s/episodes]"
     ]
    },
    {
     "name": "stdout",
     "output_type": "stream",
     "text": [
      "Episode reward:  12202.748935699463\n",
      "Episode reached max number of steps\n"
     ]
    },
    {
     "name": "stderr",
     "output_type": "stream",
     "text": [
      "\r",
      " 25%|#####2               | 50/200 [2:21:17<18:01:05, 432.44s/episodes]"
     ]
    },
    {
     "name": "stdout",
     "output_type": "stream",
     "text": [
      "Episode reward:  34671.83846282959\n",
      "Episode reached max number of steps\n"
     ]
    },
    {
     "name": "stderr",
     "output_type": "stream",
     "text": [
      "\r",
      " 26%|#####3               | 51/200 [2:30:03<19:03:08, 460.32s/episodes]"
     ]
    },
    {
     "name": "stdout",
     "output_type": "stream",
     "text": [
      "Episode reward:  25832.19942855835\n",
      "AUV is out of bounds\n"
     ]
    },
    {
     "name": "stderr",
     "output_type": "stream",
     "text": [
      "\r",
      " 26%|#####4               | 52/200 [2:30:17<13:25:25, 326.53s/episodes]"
     ]
    },
    {
     "name": "stdout",
     "output_type": "stream",
     "text": [
      "Episode reward:  -1000\n",
      "Episode reached max number of steps\n"
     ]
    },
    {
     "name": "stderr",
     "output_type": "stream",
     "text": [
      "\r",
      " 26%|#####5               | 53/200 [2:39:02<15:46:04, 386.15s/episodes]"
     ]
    },
    {
     "name": "stdout",
     "output_type": "stream",
     "text": [
      "Episode reward:  33494.75981140137\n",
      "Episode reached max number of steps\n"
     ]
    },
    {
     "name": "stderr",
     "output_type": "stream",
     "text": [
      "\r",
      " 27%|#####6               | 54/200 [2:47:48<17:21:24, 427.98s/episodes]"
     ]
    },
    {
     "name": "stdout",
     "output_type": "stream",
     "text": [
      "Episode reward:  12937.800783157349\n",
      "Episode reached max number of steps\n"
     ]
    },
    {
     "name": "stderr",
     "output_type": "stream",
     "text": [
      "\r",
      " 28%|#####7               | 55/200 [2:56:33<18:24:57, 457.22s/episodes]"
     ]
    },
    {
     "name": "stdout",
     "output_type": "stream",
     "text": [
      "Episode reward:  5290.856987953186\n",
      "Episode reached max number of steps\n"
     ]
    },
    {
     "name": "stderr",
     "output_type": "stream",
     "text": [
      "\r",
      " 28%|#####8               | 56/200 [3:05:18<19:06:07, 477.55s/episodes]"
     ]
    },
    {
     "name": "stdout",
     "output_type": "stream",
     "text": [
      "Episode reward:  5726.229030609131\n",
      "Episode reached max number of steps\n"
     ]
    },
    {
     "name": "stderr",
     "output_type": "stream",
     "text": [
      "\r",
      " 28%|#####9               | 57/200 [3:14:06<19:33:33, 492.41s/episodes]"
     ]
    },
    {
     "name": "stdout",
     "output_type": "stream",
     "text": [
      "Episode reward:  30539.485153198242\n",
      "Episode reached max number of steps\n"
     ]
    },
    {
     "name": "stderr",
     "output_type": "stream",
     "text": [
      "\r",
      " 29%|######               | 58/200 [3:22:51<19:48:46, 502.30s/episodes]"
     ]
    },
    {
     "name": "stdout",
     "output_type": "stream",
     "text": [
      "Episode reward:  30147.20231628418\n",
      "Episode reached max number of steps\n"
     ]
    },
    {
     "name": "stderr",
     "output_type": "stream",
     "text": [
      "\r",
      " 30%|######1              | 59/200 [3:31:36<19:56:10, 509.01s/episodes]"
     ]
    },
    {
     "name": "stdout",
     "output_type": "stream",
     "text": [
      "Episode reward:  3658.376214981079\n",
      "Episode reached max number of steps\n"
     ]
    },
    {
     "name": "stderr",
     "output_type": "stream",
     "text": [
      "\r",
      " 30%|######3              | 60/200 [3:40:20<19:58:23, 513.60s/episodes]"
     ]
    },
    {
     "name": "stdout",
     "output_type": "stream",
     "text": [
      "Episode reward:  10018.857515335083\n",
      "Episode reached max number of steps\n"
     ]
    },
    {
     "name": "stderr",
     "output_type": "stream",
     "text": [
      "\r",
      " 30%|######4              | 61/200 [3:49:04<19:57:28, 516.90s/episodes]"
     ]
    },
    {
     "name": "stdout",
     "output_type": "stream",
     "text": [
      "Episode reward:  8537.27965927124\n",
      "AUV is out of bounds\n"
     ]
    },
    {
     "name": "stderr",
     "output_type": "stream",
     "text": [
      "\r",
      " 31%|######5              | 62/200 [3:49:19<14:02:26, 366.28s/episodes]"
     ]
    },
    {
     "name": "stdout",
     "output_type": "stream",
     "text": [
      "Episode reward:  -1000\n",
      "Episode reached max number of steps\n"
     ]
    },
    {
     "name": "stderr",
     "output_type": "stream",
     "text": [
      "\r",
      " 32%|######6              | 63/200 [3:58:02<15:43:29, 413.21s/episodes]"
     ]
    },
    {
     "name": "stdout",
     "output_type": "stream",
     "text": [
      "Episode reward:  25062.73484802246\n",
      "AUV is out of bounds\n"
     ]
    },
    {
     "name": "stderr",
     "output_type": "stream",
     "text": [
      "\r",
      " 32%|######7              | 64/200 [3:58:27<11:12:24, 296.65s/episodes]"
     ]
    },
    {
     "name": "stdout",
     "output_type": "stream",
     "text": [
      "Episode reward:  -1000\n",
      "Episode reached max number of steps\n"
     ]
    },
    {
     "name": "stderr",
     "output_type": "stream",
     "text": [
      "\r",
      " 32%|######8              | 65/200 [4:07:09<13:39:32, 364.24s/episodes]"
     ]
    },
    {
     "name": "stdout",
     "output_type": "stream",
     "text": [
      "Episode reward:  15937.889892578125\n",
      "Episode reached max number of steps\n"
     ]
    },
    {
     "name": "stderr",
     "output_type": "stream",
     "text": [
      "\r",
      " 33%|######9              | 66/200 [4:15:51<15:19:21, 411.65s/episodes]"
     ]
    },
    {
     "name": "stdout",
     "output_type": "stream",
     "text": [
      "Episode reward:  22237.301235198975\n",
      "Episode reached max number of steps\n"
     ]
    },
    {
     "name": "stderr",
     "output_type": "stream",
     "text": [
      "\r",
      " 34%|#######              | 67/200 [4:24:33<16:25:53, 444.77s/episodes]"
     ]
    },
    {
     "name": "stdout",
     "output_type": "stream",
     "text": [
      "Episode reward:  32918.95127868652\n",
      "Episode reached max number of steps\n"
     ]
    },
    {
     "name": "stderr",
     "output_type": "stream",
     "text": [
      "\r",
      " 34%|#######1             | 68/200 [4:33:15<17:09:40, 468.03s/episodes]"
     ]
    },
    {
     "name": "stdout",
     "output_type": "stream",
     "text": [
      "Episode reward:  21394.692459106445\n",
      "Episode reached max number of steps\n"
     ]
    },
    {
     "name": "stderr",
     "output_type": "stream",
     "text": [
      "\r",
      " 34%|#######2             | 69/200 [4:41:59<17:38:09, 484.65s/episodes]"
     ]
    },
    {
     "name": "stdout",
     "output_type": "stream",
     "text": [
      "Episode reward:  32502.750232696533\n",
      "Episode reached max number of steps\n"
     ]
    },
    {
     "name": "stderr",
     "output_type": "stream",
     "text": [
      "\r",
      " 35%|#######3             | 70/200 [4:50:41<17:54:17, 495.83s/episodes]"
     ]
    },
    {
     "name": "stdout",
     "output_type": "stream",
     "text": [
      "Episode reward:  13283.954681396484\n",
      "AUV is out of bounds\n"
     ]
    },
    {
     "name": "stderr",
     "output_type": "stream",
     "text": [
      "\r",
      " 36%|#######4             | 71/200 [4:51:03<12:40:33, 353.75s/episodes]"
     ]
    },
    {
     "name": "stdout",
     "output_type": "stream",
     "text": [
      "Episode reward:  -890.8865356445312\n",
      "Episode reached max number of steps\n"
     ]
    },
    {
     "name": "stderr",
     "output_type": "stream",
     "text": [
      "\r",
      " 36%|#######5             | 72/200 [4:59:44<14:21:48, 403.98s/episodes]"
     ]
    },
    {
     "name": "stdout",
     "output_type": "stream",
     "text": [
      "Episode reward:  23551.935546875\n",
      "Episode reached max number of steps\n"
     ]
    },
    {
     "name": "stderr",
     "output_type": "stream",
     "text": [
      "\r",
      " 36%|#######6             | 73/200 [5:08:26<15:29:50, 439.30s/episodes]"
     ]
    },
    {
     "name": "stdout",
     "output_type": "stream",
     "text": [
      "Episode reward:  20414.639183044434\n",
      "Episode reached max number of steps\n"
     ]
    },
    {
     "name": "stderr",
     "output_type": "stream",
     "text": [
      "\r",
      " 37%|#######7             | 74/200 [5:17:07<16:14:24, 464.01s/episodes]"
     ]
    },
    {
     "name": "stdout",
     "output_type": "stream",
     "text": [
      "Episode reward:  19043.016468048096\n",
      "Episode reached max number of steps\n"
     ]
    },
    {
     "name": "stderr",
     "output_type": "stream",
     "text": [
      "\r",
      " 38%|#######8             | 75/200 [5:25:48<16:42:03, 480.99s/episodes]"
     ]
    },
    {
     "name": "stdout",
     "output_type": "stream",
     "text": [
      "Episode reward:  16870.343116760254\n",
      "Episode reached max number of steps\n"
     ]
    },
    {
     "name": "stderr",
     "output_type": "stream",
     "text": [
      "\r",
      " 38%|#######9             | 76/200 [5:34:32<17:00:35, 493.84s/episodes]"
     ]
    },
    {
     "name": "stdout",
     "output_type": "stream",
     "text": [
      "Episode reward:  21734.966682434082\n",
      "Episode reached max number of steps\n"
     ]
    },
    {
     "name": "stderr",
     "output_type": "stream",
     "text": [
      "\r",
      " 38%|########             | 77/200 [5:43:14<17:09:51, 502.37s/episodes]"
     ]
    },
    {
     "name": "stdout",
     "output_type": "stream",
     "text": [
      "Episode reward:  29022.564682006836\n",
      "Episode reached max number of steps\n"
     ]
    },
    {
     "name": "stderr",
     "output_type": "stream",
     "text": [
      "\r",
      " 39%|########1            | 78/200 [5:51:54<17:12:21, 507.72s/episodes]"
     ]
    },
    {
     "name": "stdout",
     "output_type": "stream",
     "text": [
      "Episode reward:  26042.99688720703\n",
      "Episode reached max number of steps\n"
     ]
    },
    {
     "name": "stderr",
     "output_type": "stream",
     "text": [
      "\r",
      " 40%|########2            | 79/200 [6:00:33<17:10:50, 511.16s/episodes]"
     ]
    },
    {
     "name": "stdout",
     "output_type": "stream",
     "text": [
      "Episode reward:  12584.879528045654\n",
      "Episode reached max number of steps\n"
     ]
    },
    {
     "name": "stderr",
     "output_type": "stream",
     "text": [
      "\r",
      " 40%|########4            | 80/200 [6:09:13<17:07:19, 513.66s/episodes]"
     ]
    },
    {
     "name": "stdout",
     "output_type": "stream",
     "text": [
      "Episode reward:  18713.7744140625\n",
      "Episode reached max number of steps\n"
     ]
    },
    {
     "name": "stderr",
     "output_type": "stream",
     "text": [
      "\r",
      " 40%|########5            | 81/200 [6:17:53<17:02:16, 515.44s/episodes]"
     ]
    },
    {
     "name": "stdout",
     "output_type": "stream",
     "text": [
      "Episode reward:  33888.26916503906\n",
      "Episode reached max number of steps\n"
     ]
    },
    {
     "name": "stderr",
     "output_type": "stream",
     "text": [
      "\r",
      " 41%|########6            | 82/200 [6:26:31<16:55:44, 516.48s/episodes]"
     ]
    },
    {
     "name": "stdout",
     "output_type": "stream",
     "text": [
      "Episode reward:  33879.01351928711\n",
      "Episode reached max number of steps\n"
     ]
    },
    {
     "name": "stderr",
     "output_type": "stream",
     "text": [
      "\r",
      " 42%|########7            | 83/200 [6:35:10<16:48:36, 517.23s/episodes]"
     ]
    },
    {
     "name": "stdout",
     "output_type": "stream",
     "text": [
      "Episode reward:  37617.95587158203\n",
      "Episode reached max number of steps\n"
     ]
    },
    {
     "name": "stderr",
     "output_type": "stream",
     "text": [
      "\r",
      " 42%|########8            | 84/200 [6:43:55<16:44:06, 519.37s/episodes]"
     ]
    },
    {
     "name": "stdout",
     "output_type": "stream",
     "text": [
      "Episode reward:  27978.389709472656\n",
      "Episode reached max number of steps\n"
     ]
    },
    {
     "name": "stderr",
     "output_type": "stream",
     "text": [
      "\r",
      " 42%|########9            | 85/200 [6:52:33<16:35:00, 519.13s/episodes]"
     ]
    },
    {
     "name": "stdout",
     "output_type": "stream",
     "text": [
      "Episode reward:  16166.127826690674\n",
      "Episode reached max number of steps\n"
     ]
    },
    {
     "name": "stderr",
     "output_type": "stream",
     "text": [
      "\r",
      " 43%|#########            | 86/200 [7:01:12<16:25:55, 518.90s/episodes]"
     ]
    },
    {
     "name": "stdout",
     "output_type": "stream",
     "text": [
      "Episode reward:  14553.885837554932\n",
      "Episode reached max number of steps\n"
     ]
    },
    {
     "name": "stderr",
     "output_type": "stream",
     "text": [
      "\r",
      " 44%|#########1           | 87/200 [7:09:50<16:17:01, 518.77s/episodes]"
     ]
    },
    {
     "name": "stdout",
     "output_type": "stream",
     "text": [
      "Episode reward:  13245.678100585938\n",
      "Episode reached max number of steps\n"
     ]
    },
    {
     "name": "stderr",
     "output_type": "stream",
     "text": [
      "\r",
      " 44%|#########2           | 88/200 [7:18:29<16:08:11, 518.67s/episodes]"
     ]
    },
    {
     "name": "stdout",
     "output_type": "stream",
     "text": [
      "Episode reward:  22005.798934936523\n",
      "Episode reached max number of steps\n"
     ]
    },
    {
     "name": "stderr",
     "output_type": "stream",
     "text": [
      "\r",
      " 44%|#########3           | 89/200 [7:27:07<15:59:35, 518.70s/episodes]"
     ]
    },
    {
     "name": "stdout",
     "output_type": "stream",
     "text": [
      "Episode reward:  23147.251712799072\n",
      "Episode reached max number of steps\n"
     ]
    },
    {
     "name": "stderr",
     "output_type": "stream",
     "text": [
      "\r",
      " 45%|#########4           | 90/200 [7:35:46<15:50:45, 518.60s/episodes]"
     ]
    },
    {
     "name": "stdout",
     "output_type": "stream",
     "text": [
      "Episode reward:  13395.300491333008\n",
      "Episode reached max number of steps\n"
     ]
    },
    {
     "name": "stderr",
     "output_type": "stream",
     "text": [
      "\r",
      " 46%|#########5           | 91/200 [7:44:25<15:42:21, 518.73s/episodes]"
     ]
    },
    {
     "name": "stdout",
     "output_type": "stream",
     "text": [
      "Episode reward:  27029.036254882812\n",
      "Episode reached max number of steps\n"
     ]
    },
    {
     "name": "stderr",
     "output_type": "stream",
     "text": [
      "\r",
      " 46%|#########6           | 92/200 [7:53:03<15:33:33, 518.65s/episodes]"
     ]
    },
    {
     "name": "stdout",
     "output_type": "stream",
     "text": [
      "Episode reward:  34715.802810668945\n",
      "Episode reached max number of steps\n"
     ]
    },
    {
     "name": "stderr",
     "output_type": "stream",
     "text": [
      "\r",
      " 46%|#########7           | 93/200 [8:01:41<15:24:15, 518.28s/episodes]"
     ]
    },
    {
     "name": "stdout",
     "output_type": "stream",
     "text": [
      "Episode reward:  7883.301225662231\n",
      "Episode reached max number of steps\n"
     ]
    },
    {
     "name": "stderr",
     "output_type": "stream",
     "text": [
      "\r",
      " 47%|#########8           | 94/200 [8:10:18<15:15:21, 518.13s/episodes]"
     ]
    },
    {
     "name": "stdout",
     "output_type": "stream",
     "text": [
      "Episode reward:  6046.857663154602\n",
      "Episode reached max number of steps\n"
     ]
    },
    {
     "name": "stderr",
     "output_type": "stream",
     "text": [
      "\r",
      " 48%|#########9           | 95/200 [8:18:56<15:06:34, 518.04s/episodes]"
     ]
    },
    {
     "name": "stdout",
     "output_type": "stream",
     "text": [
      "Episode reward:  21237.89274597168\n",
      "Episode reached max number of steps\n"
     ]
    },
    {
     "name": "stderr",
     "output_type": "stream",
     "text": [
      "\r",
      " 48%|##########           | 96/200 [8:27:33<14:57:26, 517.75s/episodes]"
     ]
    },
    {
     "name": "stdout",
     "output_type": "stream",
     "text": [
      "Episode reward:  1663.2391057014465\n",
      "Episode reached max number of steps\n"
     ]
    },
    {
     "name": "stderr",
     "output_type": "stream",
     "text": [
      "\r",
      " 48%|##########1          | 97/200 [8:36:15<14:50:48, 518.92s/episodes]"
     ]
    },
    {
     "name": "stdout",
     "output_type": "stream",
     "text": [
      "Episode reward:  11654.917598724365\n",
      "Episode reached max number of steps\n"
     ]
    },
    {
     "name": "stderr",
     "output_type": "stream",
     "text": [
      "\r",
      " 49%|##########2          | 98/200 [8:44:53<14:41:28, 518.51s/episodes]"
     ]
    },
    {
     "name": "stdout",
     "output_type": "stream",
     "text": [
      "Episode reward:  27550.27130126953\n",
      "Episode reached max number of steps\n"
     ]
    },
    {
     "name": "stderr",
     "output_type": "stream",
     "text": [
      "\r",
      " 50%|##########3          | 99/200 [8:53:29<14:31:52, 517.94s/episodes]"
     ]
    },
    {
     "name": "stdout",
     "output_type": "stream",
     "text": [
      "Episode reward:  15402.70421218872\n",
      "Episode reached max number of steps\n"
     ]
    },
    {
     "name": "stderr",
     "output_type": "stream",
     "text": [
      "\r",
      " 50%|##########          | 100/200 [9:02:06<14:22:47, 517.67s/episodes]"
     ]
    },
    {
     "name": "stdout",
     "output_type": "stream",
     "text": [
      "Episode reward:  20830.26611328125\n",
      "Episode reached max number of steps\n"
     ]
    },
    {
     "name": "stderr",
     "output_type": "stream",
     "text": [
      "\r",
      " 50%|##########1         | 101/200 [9:10:44<14:14:19, 517.77s/episodes]"
     ]
    },
    {
     "name": "stdout",
     "output_type": "stream",
     "text": [
      "Episode reward:  30067.931091308594\n",
      "Episode reached max number of steps\n"
     ]
    },
    {
     "name": "stderr",
     "output_type": "stream",
     "text": [
      "\r",
      " 51%|##########2         | 102/200 [9:19:21<14:05:18, 517.54s/episodes]"
     ]
    },
    {
     "name": "stdout",
     "output_type": "stream",
     "text": [
      "Episode reward:  26122.57460784912\n",
      "Episode reached max number of steps\n"
     ]
    },
    {
     "name": "stderr",
     "output_type": "stream",
     "text": [
      "\r",
      " 52%|##########3         | 103/200 [9:28:00<13:57:11, 517.85s/episodes]"
     ]
    },
    {
     "name": "stdout",
     "output_type": "stream",
     "text": [
      "Episode reward:  1193.566496938467\n",
      "Episode reached max number of steps\n"
     ]
    },
    {
     "name": "stderr",
     "output_type": "stream",
     "text": [
      "\r",
      " 52%|##########4         | 104/200 [9:36:39<13:49:06, 518.19s/episodes]"
     ]
    },
    {
     "name": "stdout",
     "output_type": "stream",
     "text": [
      "Episode reward:  35501.1169128418\n",
      "Episode reached max number of steps\n"
     ]
    },
    {
     "name": "stderr",
     "output_type": "stream",
     "text": [
      "\r",
      " 52%|##########5         | 105/200 [9:45:18<13:40:45, 518.37s/episodes]"
     ]
    },
    {
     "name": "stdout",
     "output_type": "stream",
     "text": [
      "Episode reward:  45646.71795654297\n",
      "Episode reached max number of steps\n"
     ]
    },
    {
     "name": "stderr",
     "output_type": "stream",
     "text": [
      "\r",
      " 53%|##########6         | 106/200 [9:53:56<13:32:08, 518.39s/episodes]"
     ]
    },
    {
     "name": "stdout",
     "output_type": "stream",
     "text": [
      "Episode reward:  21108.024501800537\n",
      "Episode reached max number of steps\n"
     ]
    },
    {
     "name": "stderr",
     "output_type": "stream",
     "text": [
      "\r",
      " 54%|##########1        | 107/200 [10:02:33<13:22:59, 518.06s/episodes]"
     ]
    },
    {
     "name": "stdout",
     "output_type": "stream",
     "text": [
      "Episode reward:  10518.378196716309\n",
      "Episode reached max number of steps\n"
     ]
    },
    {
     "name": "stderr",
     "output_type": "stream",
     "text": [
      "\r",
      " 54%|##########2        | 108/200 [10:11:09<13:13:28, 517.48s/episodes]"
     ]
    },
    {
     "name": "stdout",
     "output_type": "stream",
     "text": [
      "Episode reward:  35776.417388916016\n",
      "Episode reached max number of steps\n"
     ]
    },
    {
     "name": "stderr",
     "output_type": "stream",
     "text": [
      "\r",
      " 55%|##########3        | 109/200 [10:19:46<13:04:28, 517.24s/episodes]"
     ]
    },
    {
     "name": "stdout",
     "output_type": "stream",
     "text": [
      "Episode reward:  18234.207801818848\n",
      "Episode reached max number of steps\n"
     ]
    },
    {
     "name": "stderr",
     "output_type": "stream",
     "text": [
      "\r",
      " 55%|##########4        | 110/200 [10:28:22<12:55:11, 516.79s/episodes]"
     ]
    },
    {
     "name": "stdout",
     "output_type": "stream",
     "text": [
      "Episode reward:  27055.767601013184\n",
      "AUV is out of bounds\n"
     ]
    },
    {
     "name": "stderr",
     "output_type": "stream",
     "text": [
      "\r",
      " 56%|###########1        | 111/200 [10:28:36<9:03:05, 366.13s/episodes]"
     ]
    },
    {
     "name": "stdout",
     "output_type": "stream",
     "text": [
      "Episode reward:  -1000\n",
      "Episode reached max number of steps\n"
     ]
    },
    {
     "name": "stderr",
     "output_type": "stream",
     "text": [
      "\r",
      " 56%|##########6        | 112/200 [10:37:13<10:03:07, 411.22s/episodes]"
     ]
    },
    {
     "name": "stdout",
     "output_type": "stream",
     "text": [
      "Episode reward:  30166.466499328613\n",
      "Episode reached max number of steps\n"
     ]
    },
    {
     "name": "stderr",
     "output_type": "stream",
     "text": [
      "\r",
      " 56%|##########7        | 113/200 [10:45:50<10:42:23, 443.03s/episodes]"
     ]
    },
    {
     "name": "stdout",
     "output_type": "stream",
     "text": [
      "Episode reward:  36245.07115936279\n",
      "Episode reached max number of steps\n"
     ]
    },
    {
     "name": "stderr",
     "output_type": "stream",
     "text": [
      "\r",
      " 57%|##########8        | 114/200 [10:54:27<11:06:49, 465.22s/episodes]"
     ]
    },
    {
     "name": "stdout",
     "output_type": "stream",
     "text": [
      "Episode reward:  13850.410343170166\n",
      "AUV is out of bounds\n"
     ]
    },
    {
     "name": "stderr",
     "output_type": "stream",
     "text": [
      "\r",
      " 57%|###########5        | 115/200 [10:54:42<7:47:34, 330.06s/episodes]"
     ]
    },
    {
     "name": "stdout",
     "output_type": "stream",
     "text": [
      "Episode reward:  -1000\n",
      "Episode reached max number of steps\n"
     ]
    },
    {
     "name": "stderr",
     "output_type": "stream",
     "text": [
      "\r",
      " 58%|###########6        | 116/200 [11:03:19<9:00:27, 386.04s/episodes]"
     ]
    },
    {
     "name": "stdout",
     "output_type": "stream",
     "text": [
      "Episode reward:  26469.64990234375\n",
      "Episode reached max number of steps\n"
     ]
    },
    {
     "name": "stderr",
     "output_type": "stream",
     "text": [
      "\r",
      " 58%|###########7        | 117/200 [11:11:55<9:48:06, 425.14s/episodes]"
     ]
    },
    {
     "name": "stdout",
     "output_type": "stream",
     "text": [
      "Episode reward:  21111.5890045166\n",
      "Episode reached max number of steps\n"
     ]
    },
    {
     "name": "stderr",
     "output_type": "stream",
     "text": [
      "\r",
      " 59%|###########2       | 118/200 [11:20:32<10:18:38, 452.66s/episodes]"
     ]
    },
    {
     "name": "stdout",
     "output_type": "stream",
     "text": [
      "Episode reward:  27189.532836914062\n",
      "Episode reached max number of steps\n"
     ]
    },
    {
     "name": "stderr",
     "output_type": "stream",
     "text": [
      "\r",
      " 60%|###########3       | 119/200 [11:29:08<10:37:00, 471.85s/episodes]"
     ]
    },
    {
     "name": "stdout",
     "output_type": "stream",
     "text": [
      "Episode reward:  18578.336853027344\n",
      "Episode reached max number of steps\n"
     ]
    },
    {
     "name": "stderr",
     "output_type": "stream",
     "text": [
      "\r",
      " 60%|###########4       | 120/200 [11:37:46<10:47:19, 485.49s/episodes]"
     ]
    },
    {
     "name": "stdout",
     "output_type": "stream",
     "text": [
      "Episode reward:  23078.395614624023\n",
      "Episode reached max number of steps\n"
     ]
    },
    {
     "name": "stderr",
     "output_type": "stream",
     "text": [
      "\r",
      " 60%|###########4       | 121/200 [11:46:23<10:51:45, 495.01s/episodes]"
     ]
    },
    {
     "name": "stdout",
     "output_type": "stream",
     "text": [
      "Episode reward:  6997.596391677856\n",
      "Episode reached max number of steps\n"
     ]
    },
    {
     "name": "stderr",
     "output_type": "stream",
     "text": [
      "\r",
      " 61%|###########5       | 122/200 [11:55:00<10:52:08, 501.64s/episodes]"
     ]
    },
    {
     "name": "stdout",
     "output_type": "stream",
     "text": [
      "Episode reward:  16042.528583526611\n",
      "Episode reached max number of steps\n"
     ]
    },
    {
     "name": "stderr",
     "output_type": "stream",
     "text": [
      "\r",
      " 62%|###########6       | 123/200 [12:03:36<10:49:24, 506.03s/episodes]"
     ]
    },
    {
     "name": "stdout",
     "output_type": "stream",
     "text": [
      "Episode reward:  6591.221813201904\n",
      "Episode reached max number of steps\n"
     ]
    },
    {
     "name": "stderr",
     "output_type": "stream",
     "text": [
      "\r",
      " 62%|###########7       | 124/200 [12:12:12<10:44:39, 508.94s/episodes]"
     ]
    },
    {
     "name": "stdout",
     "output_type": "stream",
     "text": [
      "Episode reward:  19052.75602722168\n",
      "Episode reached max number of steps\n"
     ]
    },
    {
     "name": "stderr",
     "output_type": "stream",
     "text": [
      "\r",
      " 62%|###########8       | 125/200 [12:20:48<10:38:37, 510.91s/episodes]"
     ]
    },
    {
     "name": "stdout",
     "output_type": "stream",
     "text": [
      "Episode reward:  27722.49338531494\n",
      "Episode reached max number of steps\n"
     ]
    },
    {
     "name": "stderr",
     "output_type": "stream",
     "text": [
      "\r",
      " 63%|###########9       | 126/200 [12:29:22<10:31:33, 512.08s/episodes]"
     ]
    },
    {
     "name": "stdout",
     "output_type": "stream",
     "text": [
      "Episode reward:  20241.219646453857\n",
      "Episode reached max number of steps\n"
     ]
    },
    {
     "name": "stderr",
     "output_type": "stream",
     "text": [
      "\r",
      " 64%|############       | 127/200 [12:37:58<10:24:18, 513.14s/episodes]"
     ]
    },
    {
     "name": "stdout",
     "output_type": "stream",
     "text": [
      "Episode reward:  37362.08402252197\n",
      "Episode reached max number of steps\n"
     ]
    },
    {
     "name": "stderr",
     "output_type": "stream",
     "text": [
      "\r",
      " 64%|############1      | 128/200 [12:46:33<10:16:32, 513.78s/episodes]"
     ]
    },
    {
     "name": "stdout",
     "output_type": "stream",
     "text": [
      "Episode reward:  21290.38112258911\n",
      "Episode reached max number of steps\n"
     ]
    },
    {
     "name": "stderr",
     "output_type": "stream",
     "text": [
      "\r",
      " 64%|############2      | 129/200 [12:55:08<10:08:27, 514.19s/episodes]"
     ]
    },
    {
     "name": "stdout",
     "output_type": "stream",
     "text": [
      "Episode reward:  42689.63053894043\n",
      "Episode reached max number of steps\n"
     ]
    },
    {
     "name": "stderr",
     "output_type": "stream",
     "text": [
      "\r",
      " 65%|############3      | 130/200 [13:03:43<10:00:08, 514.41s/episodes]"
     ]
    },
    {
     "name": "stdout",
     "output_type": "stream",
     "text": [
      "Episode reward:  9189.074077606201\n",
      "Episode reached max number of steps\n"
     ]
    },
    {
     "name": "stderr",
     "output_type": "stream",
     "text": [
      "\r",
      " 66%|#############1      | 131/200 [13:12:18<9:51:49, 514.64s/episodes]"
     ]
    },
    {
     "name": "stdout",
     "output_type": "stream",
     "text": [
      "Episode reward:  20864.54501724243\n",
      "Episode reached max number of steps\n"
     ]
    },
    {
     "name": "stderr",
     "output_type": "stream",
     "text": [
      "\r",
      " 66%|#############2      | 132/200 [13:20:53<9:43:15, 514.63s/episodes]"
     ]
    },
    {
     "name": "stdout",
     "output_type": "stream",
     "text": [
      "Episode reward:  19771.71795272827\n",
      "Episode reached max number of steps\n"
     ]
    },
    {
     "name": "stderr",
     "output_type": "stream",
     "text": [
      "\r",
      " 66%|#############3      | 133/200 [13:29:28<9:34:50, 514.78s/episodes]"
     ]
    },
    {
     "name": "stdout",
     "output_type": "stream",
     "text": [
      "Episode reward:  33382.02233123779\n",
      "Episode reached max number of steps\n"
     ]
    },
    {
     "name": "stderr",
     "output_type": "stream",
     "text": [
      "\r",
      " 67%|#############4      | 134/200 [13:38:05<9:26:49, 515.29s/episodes]"
     ]
    },
    {
     "name": "stdout",
     "output_type": "stream",
     "text": [
      "Episode reward:  20884.831813812256\n",
      "Episode reached max number of steps\n"
     ]
    },
    {
     "name": "stderr",
     "output_type": "stream",
     "text": [
      "\r",
      " 68%|#############5      | 135/200 [13:46:44<9:19:37, 516.57s/episodes]"
     ]
    },
    {
     "name": "stdout",
     "output_type": "stream",
     "text": [
      "Episode reward:  14585.858837127686\n",
      "Episode reached max number of steps\n"
     ]
    },
    {
     "name": "stderr",
     "output_type": "stream",
     "text": [
      "\r",
      " 68%|#############6      | 136/200 [13:55:19<9:10:26, 516.04s/episodes]"
     ]
    },
    {
     "name": "stdout",
     "output_type": "stream",
     "text": [
      "Episode reward:  24154.955730438232\n",
      "Episode reached max number of steps\n"
     ]
    },
    {
     "name": "stderr",
     "output_type": "stream",
     "text": [
      "\r",
      " 68%|#############7      | 137/200 [14:03:54<9:01:29, 515.70s/episodes]"
     ]
    },
    {
     "name": "stdout",
     "output_type": "stream",
     "text": [
      "Episode reward:  26174.036560058594\n",
      "Episode reached max number of steps\n"
     ]
    },
    {
     "name": "stderr",
     "output_type": "stream",
     "text": [
      "\r",
      " 69%|#############8      | 138/200 [14:12:29<8:52:48, 515.62s/episodes]"
     ]
    },
    {
     "name": "stdout",
     "output_type": "stream",
     "text": [
      "Episode reward:  11016.210096359253\n",
      "Episode reached max number of steps\n"
     ]
    },
    {
     "name": "stderr",
     "output_type": "stream",
     "text": [
      "\r",
      " 70%|#############9      | 139/200 [14:21:05<8:44:05, 515.50s/episodes]"
     ]
    },
    {
     "name": "stdout",
     "output_type": "stream",
     "text": [
      "Episode reward:  26583.72827911377\n",
      "Episode reached max number of steps\n"
     ]
    },
    {
     "name": "stderr",
     "output_type": "stream",
     "text": [
      "\r",
      " 70%|##############      | 140/200 [14:29:40<8:35:20, 515.35s/episodes]"
     ]
    },
    {
     "name": "stdout",
     "output_type": "stream",
     "text": [
      "Episode reward:  13053.643424987793\n",
      "Episode reached max number of steps\n"
     ]
    },
    {
     "name": "stderr",
     "output_type": "stream",
     "text": [
      "\r",
      " 70%|##############1     | 141/200 [14:38:16<8:26:58, 515.56s/episodes]"
     ]
    },
    {
     "name": "stdout",
     "output_type": "stream",
     "text": [
      "Episode reward:  33365.82373046875\n",
      "Episode reached max number of steps\n"
     ]
    },
    {
     "name": "stderr",
     "output_type": "stream",
     "text": [
      "\r",
      " 71%|##############2     | 142/200 [14:46:52<8:18:43, 515.92s/episodes]"
     ]
    },
    {
     "name": "stdout",
     "output_type": "stream",
     "text": [
      "Episode reward:  7523.313079833984\n",
      "Episode reached max number of steps\n"
     ]
    },
    {
     "name": "stderr",
     "output_type": "stream",
     "text": [
      "\r",
      " 72%|##############3     | 143/200 [14:55:28<8:10:08, 515.93s/episodes]"
     ]
    },
    {
     "name": "stdout",
     "output_type": "stream",
     "text": [
      "Episode reward:  18088.29997253418\n",
      "Episode reached max number of steps\n"
     ]
    },
    {
     "name": "stderr",
     "output_type": "stream",
     "text": [
      "\r",
      " 72%|##############4     | 144/200 [15:04:03<8:01:16, 515.65s/episodes]"
     ]
    },
    {
     "name": "stdout",
     "output_type": "stream",
     "text": [
      "Episode reward:  23860.30002975464\n",
      "Episode reached max number of steps\n"
     ]
    },
    {
     "name": "stderr",
     "output_type": "stream",
     "text": [
      "\r",
      " 72%|##############5     | 145/200 [15:12:38<7:52:23, 515.34s/episodes]"
     ]
    },
    {
     "name": "stdout",
     "output_type": "stream",
     "text": [
      "Episode reward:  9353.125680923462\n",
      "Episode reached max number of steps\n"
     ]
    },
    {
     "name": "stderr",
     "output_type": "stream",
     "text": [
      "\r",
      " 73%|##############6     | 146/200 [15:21:13<7:43:37, 515.13s/episodes]"
     ]
    },
    {
     "name": "stdout",
     "output_type": "stream",
     "text": [
      "Episode reward:  8694.451852798462\n",
      "Episode reached max number of steps\n"
     ]
    },
    {
     "name": "stderr",
     "output_type": "stream",
     "text": [
      "\r",
      " 74%|##############7     | 147/200 [15:29:47<7:34:52, 514.95s/episodes]"
     ]
    },
    {
     "name": "stdout",
     "output_type": "stream",
     "text": [
      "Episode reward:  26215.51879119873\n",
      "Episode reached max number of steps\n"
     ]
    },
    {
     "name": "stderr",
     "output_type": "stream",
     "text": [
      "\r",
      " 74%|##############8     | 148/200 [15:38:21<7:26:04, 514.70s/episodes]"
     ]
    },
    {
     "name": "stdout",
     "output_type": "stream",
     "text": [
      "Episode reward:  11631.272359848022\n",
      "Episode reached max number of steps\n"
     ]
    },
    {
     "name": "stderr",
     "output_type": "stream",
     "text": [
      "\r",
      " 74%|##############9     | 149/200 [15:46:56<7:17:36, 514.84s/episodes]"
     ]
    },
    {
     "name": "stdout",
     "output_type": "stream",
     "text": [
      "Episode reward:  6111.12330532074\n",
      "Episode reached max number of steps\n"
     ]
    },
    {
     "name": "stderr",
     "output_type": "stream",
     "text": [
      "\r",
      " 75%|###############     | 150/200 [15:55:32<7:09:06, 514.94s/episodes]"
     ]
    },
    {
     "name": "stdout",
     "output_type": "stream",
     "text": [
      "Episode reward:  26728.462982177734\n",
      "Episode reached max number of steps\n"
     ]
    },
    {
     "name": "stderr",
     "output_type": "stream",
     "text": [
      "\r",
      " 76%|###############1    | 151/200 [16:04:06<7:00:26, 514.83s/episodes]"
     ]
    },
    {
     "name": "stdout",
     "output_type": "stream",
     "text": [
      "Episode reward:  4638.576427459717\n",
      "Episode reached max number of steps\n"
     ]
    },
    {
     "name": "stderr",
     "output_type": "stream",
     "text": [
      "\r",
      " 76%|###############2    | 152/200 [16:12:41<6:51:52, 514.84s/episodes]"
     ]
    },
    {
     "name": "stdout",
     "output_type": "stream",
     "text": [
      "Episode reward:  28049.728744506836\n",
      "Episode reached max number of steps\n"
     ]
    },
    {
     "name": "stderr",
     "output_type": "stream",
     "text": [
      "\r",
      " 76%|###############3    | 153/200 [16:21:17<6:43:28, 515.08s/episodes]"
     ]
    },
    {
     "name": "stdout",
     "output_type": "stream",
     "text": [
      "Episode reward:  17490.926879882812\n",
      "Episode reached max number of steps\n"
     ]
    },
    {
     "name": "stderr",
     "output_type": "stream",
     "text": [
      "\r",
      " 77%|###############4    | 154/200 [16:29:53<6:35:12, 515.48s/episodes]"
     ]
    },
    {
     "name": "stdout",
     "output_type": "stream",
     "text": [
      "Episode reward:  28613.000785827637\n",
      "Episode reached max number of steps\n"
     ]
    },
    {
     "name": "stderr",
     "output_type": "stream",
     "text": [
      "\r",
      " 78%|###############5    | 155/200 [16:38:28<6:26:35, 515.45s/episodes]"
     ]
    },
    {
     "name": "stdout",
     "output_type": "stream",
     "text": [
      "Episode reward:  14739.907287597656\n",
      "Episode reached max number of steps\n"
     ]
    },
    {
     "name": "stderr",
     "output_type": "stream",
     "text": [
      "\r",
      " 78%|###############6    | 156/200 [16:47:04<6:18:02, 515.52s/episodes]"
     ]
    },
    {
     "name": "stdout",
     "output_type": "stream",
     "text": [
      "Episode reward:  14431.395622253418\n",
      "Episode reached max number of steps\n"
     ]
    },
    {
     "name": "stderr",
     "output_type": "stream",
     "text": [
      "\r",
      " 78%|###############7    | 157/200 [16:55:40<6:09:25, 515.48s/episodes]"
     ]
    },
    {
     "name": "stdout",
     "output_type": "stream",
     "text": [
      "Episode reward:  7507.903289794922\n",
      "Episode reached max number of steps\n"
     ]
    },
    {
     "name": "stderr",
     "output_type": "stream",
     "text": [
      "\r",
      " 79%|###############8    | 158/200 [17:04:18<6:01:23, 516.27s/episodes]"
     ]
    },
    {
     "name": "stdout",
     "output_type": "stream",
     "text": [
      "Episode reward:  13460.034065246582\n",
      "AUV is out of bounds\n"
     ]
    },
    {
     "name": "stderr",
     "output_type": "stream",
     "text": [
      "\r",
      " 80%|###############9    | 159/200 [17:04:32<4:09:55, 365.74s/episodes]"
     ]
    },
    {
     "name": "stdout",
     "output_type": "stream",
     "text": [
      "Episode reward:  -1000\n",
      "Episode reached max number of steps\n"
     ]
    },
    {
     "name": "stderr",
     "output_type": "stream",
     "text": [
      "\r",
      " 80%|################    | 160/200 [17:13:08<4:33:55, 410.88s/episodes]"
     ]
    },
    {
     "name": "stdout",
     "output_type": "stream",
     "text": [
      "Episode reward:  13306.201957702637\n",
      "Episode reached max number of steps\n"
     ]
    },
    {
     "name": "stderr",
     "output_type": "stream",
     "text": [
      "\r",
      " 80%|################1   | 161/200 [17:21:45<4:47:36, 442.48s/episodes]"
     ]
    },
    {
     "name": "stdout",
     "output_type": "stream",
     "text": [
      "Episode reward:  13007.261585235596\n",
      "Episode reached max number of steps\n"
     ]
    },
    {
     "name": "stderr",
     "output_type": "stream",
     "text": [
      "\r",
      " 81%|################2   | 162/200 [17:30:21<4:54:13, 464.56s/episodes]"
     ]
    },
    {
     "name": "stdout",
     "output_type": "stream",
     "text": [
      "Episode reward:  16782.130851745605\n",
      "Episode reached max number of steps\n"
     ]
    },
    {
     "name": "stderr",
     "output_type": "stream",
     "text": [
      "\r",
      " 82%|################2   | 163/200 [17:38:57<4:56:02, 480.08s/episodes]"
     ]
    },
    {
     "name": "stdout",
     "output_type": "stream",
     "text": [
      "Episode reward:  26968.79628753662\n",
      "Episode reached max number of steps\n"
     ]
    },
    {
     "name": "stderr",
     "output_type": "stream",
     "text": [
      "\r",
      " 82%|################4   | 164/200 [17:47:33<4:54:29, 490.83s/episodes]"
     ]
    },
    {
     "name": "stdout",
     "output_type": "stream",
     "text": [
      "Episode reward:  21785.246181488037\n",
      "Episode reached max number of steps\n"
     ]
    },
    {
     "name": "stderr",
     "output_type": "stream",
     "text": [
      "\r",
      " 82%|################5   | 165/200 [17:56:17<4:52:13, 500.94s/episodes]"
     ]
    },
    {
     "name": "stdout",
     "output_type": "stream",
     "text": [
      "Episode reward:  21016.617977142334\n",
      "AUV is out of bounds\n"
     ]
    },
    {
     "name": "stderr",
     "output_type": "stream",
     "text": [
      "\r",
      " 83%|################5   | 166/200 [17:56:32<3:21:13, 355.10s/episodes]"
     ]
    },
    {
     "name": "stdout",
     "output_type": "stream",
     "text": [
      "Episode reward:  -1000\n",
      "Episode reached max number of steps\n"
     ]
    },
    {
     "name": "stderr",
     "output_type": "stream",
     "text": [
      "\r",
      " 84%|################7   | 167/200 [18:05:08<3:41:53, 403.43s/episodes]"
     ]
    },
    {
     "name": "stdout",
     "output_type": "stream",
     "text": [
      "Episode reward:  11044.352931976318\n",
      "Episode reached max number of steps\n"
     ]
    },
    {
     "name": "stderr",
     "output_type": "stream",
     "text": [
      "\r",
      " 84%|################8   | 168/200 [18:13:46<3:53:26, 437.70s/episodes]"
     ]
    },
    {
     "name": "stdout",
     "output_type": "stream",
     "text": [
      "Episode reward:  15431.249252319336\n",
      "Episode reached max number of steps\n"
     ]
    },
    {
     "name": "stderr",
     "output_type": "stream",
     "text": [
      "\r",
      " 84%|################9   | 169/200 [18:22:23<3:58:23, 461.40s/episodes]"
     ]
    },
    {
     "name": "stdout",
     "output_type": "stream",
     "text": [
      "Episode reward:  28258.819259643555\n",
      "Episode reached max number of steps\n"
     ]
    },
    {
     "name": "stderr",
     "output_type": "stream",
     "text": [
      "\r",
      " 85%|#################   | 170/200 [18:31:00<3:59:05, 478.17s/episodes]"
     ]
    },
    {
     "name": "stdout",
     "output_type": "stream",
     "text": [
      "Episode reward:  13130.276363372803\n",
      "Episode reached max number of steps\n"
     ]
    },
    {
     "name": "stderr",
     "output_type": "stream",
     "text": [
      "\r",
      " 86%|#################1  | 171/200 [18:39:37<3:56:41, 489.71s/episodes]"
     ]
    },
    {
     "name": "stdout",
     "output_type": "stream",
     "text": [
      "Episode reward:  9866.977439880371\n",
      "Episode reached max number of steps\n"
     ]
    },
    {
     "name": "stderr",
     "output_type": "stream",
     "text": [
      "\r",
      " 86%|#################2  | 172/200 [18:48:14<3:52:22, 497.93s/episodes]"
     ]
    },
    {
     "name": "stdout",
     "output_type": "stream",
     "text": [
      "Episode reward:  18090.575691223145\n",
      "Episode reached max number of steps\n"
     ]
    },
    {
     "name": "stderr",
     "output_type": "stream",
     "text": [
      "\r",
      " 86%|#################3  | 173/200 [18:56:51<3:46:39, 503.69s/episodes]"
     ]
    },
    {
     "name": "stdout",
     "output_type": "stream",
     "text": [
      "Episode reward:  24668.258239746094\n",
      "Episode reached max number of steps\n"
     ]
    },
    {
     "name": "stderr",
     "output_type": "stream",
     "text": [
      "\r",
      " 87%|#################4  | 174/200 [19:05:28<3:40:01, 507.77s/episodes]"
     ]
    },
    {
     "name": "stdout",
     "output_type": "stream",
     "text": [
      "Episode reward:  14228.353395462036\n",
      "Episode reached max number of steps\n"
     ]
    },
    {
     "name": "stderr",
     "output_type": "stream",
     "text": [
      "\r",
      " 88%|#################5  | 175/200 [19:14:06<3:32:46, 510.66s/episodes]"
     ]
    },
    {
     "name": "stdout",
     "output_type": "stream",
     "text": [
      "Episode reward:  1620.2164731025696\n",
      "Episode reached max number of steps\n"
     ]
    },
    {
     "name": "stderr",
     "output_type": "stream",
     "text": [
      "\r",
      " 88%|#################6  | 176/200 [19:22:43<3:25:05, 512.73s/episodes]"
     ]
    },
    {
     "name": "stdout",
     "output_type": "stream",
     "text": [
      "Episode reward:  25917.5405960083\n",
      "Episode reached max number of steps\n"
     ]
    },
    {
     "name": "stderr",
     "output_type": "stream",
     "text": [
      "\r",
      " 88%|#################7  | 177/200 [19:31:20<3:17:03, 514.06s/episodes]"
     ]
    },
    {
     "name": "stdout",
     "output_type": "stream",
     "text": [
      "Episode reward:  41892.80090332031\n",
      "Episode reached max number of steps\n"
     ]
    },
    {
     "name": "stderr",
     "output_type": "stream",
     "text": [
      "\r",
      " 89%|#################8  | 178/200 [19:39:58<3:08:50, 515.01s/episodes]"
     ]
    },
    {
     "name": "stdout",
     "output_type": "stream",
     "text": [
      "Episode reward:  1528.9007441997528\n",
      "Episode reached max number of steps\n"
     ]
    },
    {
     "name": "stderr",
     "output_type": "stream",
     "text": [
      "\r",
      " 90%|#################9  | 179/200 [19:48:34<3:00:22, 515.37s/episodes]"
     ]
    },
    {
     "name": "stdout",
     "output_type": "stream",
     "text": [
      "Episode reward:  36349.74223327637\n",
      "Episode reached max number of steps\n"
     ]
    },
    {
     "name": "stderr",
     "output_type": "stream",
     "text": [
      "\r",
      " 90%|##################  | 180/200 [19:57:11<2:51:57, 515.85s/episodes]"
     ]
    },
    {
     "name": "stdout",
     "output_type": "stream",
     "text": [
      "Episode reward:  23470.194541931152\n",
      "Episode reached max number of steps\n"
     ]
    },
    {
     "name": "stderr",
     "output_type": "stream",
     "text": [
      "\r",
      " 90%|##################1 | 181/200 [20:05:52<2:43:51, 517.44s/episodes]"
     ]
    },
    {
     "name": "stdout",
     "output_type": "stream",
     "text": [
      "Episode reward:  814.4578247070312\n",
      "Episode reached max number of steps\n"
     ]
    },
    {
     "name": "stderr",
     "output_type": "stream",
     "text": [
      "\r",
      " 91%|##################2 | 182/200 [20:14:28<2:35:07, 517.09s/episodes]"
     ]
    },
    {
     "name": "stdout",
     "output_type": "stream",
     "text": [
      "Episode reward:  23128.232173919678\n",
      "Episode reached max number of steps\n"
     ]
    },
    {
     "name": "stderr",
     "output_type": "stream",
     "text": [
      "\r",
      " 92%|##################3 | 183/200 [20:23:04<2:26:26, 516.84s/episodes]"
     ]
    },
    {
     "name": "stdout",
     "output_type": "stream",
     "text": [
      "Episode reward:  26439.016204833984\n",
      "Episode reached max number of steps\n"
     ]
    },
    {
     "name": "stderr",
     "output_type": "stream",
     "text": [
      "\r",
      " 92%|##################4 | 184/200 [20:31:40<2:17:44, 516.51s/episodes]"
     ]
    },
    {
     "name": "stdout",
     "output_type": "stream",
     "text": [
      "Episode reward:  19769.898529052734\n",
      "Episode reached max number of steps\n"
     ]
    },
    {
     "name": "stderr",
     "output_type": "stream",
     "text": [
      "\r",
      " 92%|##################5 | 185/200 [20:40:17<2:09:08, 516.54s/episodes]"
     ]
    },
    {
     "name": "stdout",
     "output_type": "stream",
     "text": [
      "Episode reward:  13240.301656723022\n",
      "Episode reached max number of steps\n"
     ]
    },
    {
     "name": "stderr",
     "output_type": "stream",
     "text": [
      "\r",
      " 93%|##################6 | 186/200 [20:48:53<2:00:30, 516.47s/episodes]"
     ]
    },
    {
     "name": "stdout",
     "output_type": "stream",
     "text": [
      "Episode reward:  37971.49253845215\n",
      "Episode reached max number of steps\n"
     ]
    },
    {
     "name": "stderr",
     "output_type": "stream",
     "text": [
      "\r",
      " 94%|##################7 | 187/200 [20:57:28<1:51:47, 515.99s/episodes]"
     ]
    },
    {
     "name": "stdout",
     "output_type": "stream",
     "text": [
      "Episode reward:  7198.064268112183\n",
      "Episode reached max number of steps\n"
     ]
    },
    {
     "name": "stderr",
     "output_type": "stream",
     "text": [
      "\r",
      " 94%|##################7 | 188/200 [21:06:03<1:43:08, 515.75s/episodes]"
     ]
    },
    {
     "name": "stdout",
     "output_type": "stream",
     "text": [
      "Episode reward:  20986.426414489746\n",
      "Episode reached max number of steps\n"
     ]
    },
    {
     "name": "stderr",
     "output_type": "stream",
     "text": [
      "\r",
      " 94%|##################9 | 189/200 [21:14:38<1:34:30, 515.51s/episodes]"
     ]
    },
    {
     "name": "stdout",
     "output_type": "stream",
     "text": [
      "Episode reward:  29035.84242248535\n",
      "Episode reached max number of steps\n"
     ]
    },
    {
     "name": "stderr",
     "output_type": "stream",
     "text": [
      "\r",
      " 95%|################### | 190/200 [21:23:14<1:25:56, 515.61s/episodes]"
     ]
    },
    {
     "name": "stdout",
     "output_type": "stream",
     "text": [
      "Episode reward:  14536.205638885498\n",
      "Episode reached max number of steps\n"
     ]
    },
    {
     "name": "stderr",
     "output_type": "stream",
     "text": [
      "\r",
      " 96%|################### | 191/200 [21:31:50<1:17:20, 515.62s/episodes]"
     ]
    },
    {
     "name": "stdout",
     "output_type": "stream",
     "text": [
      "Episode reward:  23792.378574371338\n",
      "Episode reached max number of steps\n"
     ]
    },
    {
     "name": "stderr",
     "output_type": "stream",
     "text": [
      "\r",
      " 96%|###################2| 192/200 [21:40:25<1:08:44, 515.52s/episodes]"
     ]
    },
    {
     "name": "stdout",
     "output_type": "stream",
     "text": [
      "Episode reward:  20086.214782714844\n",
      "Episode reached max number of steps\n"
     ]
    },
    {
     "name": "stderr",
     "output_type": "stream",
     "text": [
      "\r",
      " 96%|###################3| 193/200 [21:49:00<1:00:06, 515.26s/episodes]"
     ]
    },
    {
     "name": "stdout",
     "output_type": "stream",
     "text": [
      "Episode reward:  10071.189863204956\n",
      "Episode reached max number of steps\n"
     ]
    },
    {
     "name": "stderr",
     "output_type": "stream",
     "text": [
      "\r",
      " 97%|#####################3| 194/200 [21:57:34<51:30, 515.04s/episodes]"
     ]
    },
    {
     "name": "stdout",
     "output_type": "stream",
     "text": [
      "Episode reward:  17288.40895462036\n",
      "Episode reached max number of steps\n"
     ]
    },
    {
     "name": "stderr",
     "output_type": "stream",
     "text": [
      "\r",
      " 98%|#####################4| 195/200 [22:06:08<42:54, 514.84s/episodes]"
     ]
    },
    {
     "name": "stdout",
     "output_type": "stream",
     "text": [
      "Episode reward:  30671.537017822266\n",
      "Episode reached max number of steps\n"
     ]
    },
    {
     "name": "stderr",
     "output_type": "stream",
     "text": [
      "\r",
      " 98%|#####################5| 196/200 [22:14:43<34:18, 514.70s/episodes]"
     ]
    },
    {
     "name": "stdout",
     "output_type": "stream",
     "text": [
      "Episode reward:  28713.640991210938\n",
      "Episode reached max number of steps\n"
     ]
    },
    {
     "name": "stderr",
     "output_type": "stream",
     "text": [
      "\r",
      " 98%|#####################6| 197/200 [22:23:17<25:43, 514.52s/episodes]"
     ]
    },
    {
     "name": "stdout",
     "output_type": "stream",
     "text": [
      "Episode reward:  18067.689945220947\n",
      "AUV is out of bounds\n"
     ]
    },
    {
     "name": "stderr",
     "output_type": "stream",
     "text": [
      "\r",
      " 99%|#####################7| 198/200 [22:23:31<12:09, 364.53s/episodes]"
     ]
    },
    {
     "name": "stdout",
     "output_type": "stream",
     "text": [
      "Episode reward:  -1000\n",
      "Episode reached max number of steps\n"
     ]
    },
    {
     "name": "stderr",
     "output_type": "stream",
     "text": [
      "\r",
      "100%|#####################8| 199/200 [22:32:05<06:49, 409.33s/episodes]"
     ]
    },
    {
     "name": "stdout",
     "output_type": "stream",
     "text": [
      "Episode reward:  15124.371383666992\n",
      "Episode reached max number of steps\n"
     ]
    },
    {
     "name": "stderr",
     "output_type": "stream",
     "text": [
      "100%|######################| 200/200 [22:40:40<00:00, 408.20s/episodes]"
     ]
    },
    {
     "name": "stdout",
     "output_type": "stream",
     "text": [
      "Episode reward:  21914.31558227539\n"
     ]
    },
    {
     "name": "stderr",
     "output_type": "stream",
     "text": [
      "\n"
     ]
    }
   ],
   "source": [
    "# This is where the magic happens\n",
    "EPISODES = 200\n",
    "AGGREGATE_STATS_EVERY = 1 # Episode\n",
    "ep_rewards = []\n",
    "SHOW_PREVIEW = False\n",
    "MIN_REWARD = -10_000 # Rewards below this are not saved\n",
    "MODEL_NAME = \"LAUV_ROALD\"\n",
    "\n",
    "# Epsilon parameters determine the extent to which the agent will explore/exploit\n",
    "    # Using decaying epsilon: The more the agent learns, the less it will explore\n",
    "    # epsilon := Change of doing explore action, i.e. randomly select action\n",
    "    # EPSILON_DECAY := The rate at which exploring decays\n",
    "    # MIN_EPSILON := To always keep some level of exploration, exploration will not decay beyond this threshold\n",
    "\n",
    "epsilon = 1 # Not constant, as it will decay\n",
    "EPSILON_DECAY = 0.90\n",
    "MIN_EPSILON = 0.001\n",
    "\n",
    "\n",
    "for episode in tqdm(range(1, EPISODES + 1), ascii=True, unit='episodes'):\n",
    "    \n",
    "    # Update tensorboard step every episode\n",
    "    agent.tensorboard.step = episode\n",
    "    \n",
    "    # Reset episode, rewards, environment, done-flag\n",
    "    episode_reward = 0\n",
    "    step = 1\n",
    "    current_state = env.reset()\n",
    "    agent.reset()\n",
    "    done = False\n",
    "    \n",
    "    # The training loop\n",
    "    while not done:\n",
    "        # Decide explore vs exploit\n",
    "        if np.random.random() > epsilon:\n",
    "            # Get action from Q table\n",
    "            action = np.argmax(agent.get_qs(current_state))\n",
    "        else:\n",
    "            # Get random action\n",
    "            action = np.random.randint(0, env.action_space.nvec[0])\n",
    "\n",
    "        # Take selected aciton\n",
    "        new_state, reward, done, _info = env.step([action])\n",
    "        next_pos = agent.deliberate(new_state)\n",
    "        \n",
    "        episode_reward+=reward\n",
    "    \n",
    "        if SHOW_PREVIEW:\n",
    "            agent.render(new_state, next_action)\n",
    "            env.render()\n",
    "\n",
    "        # Update replay-memory (a set length collection of experiences the agent remembers, from which training examples are selected)\n",
    "        # Works as a deque: one in, oldest out\n",
    "        #print(\"Updating replay memory...\")\n",
    "        agent.update_replay_memory((current_state, action, reward, new_state, done))\n",
    "\n",
    "        # Trains the agent with the replay-memory is sufficiently large\n",
    "        agent.train(done, step)\n",
    "        current_state = new_state\n",
    "        step += 1\n",
    "        \n",
    "    print(\"Episode reward: \", episode_reward)\n",
    "    \n",
    "    # Decay epsilon\n",
    "    if epsilon > MIN_EPSILON:\n",
    "        epsilon *= EPSILON_DECAY\n",
    "        epsilon = max(MIN_EPSILON, epsilon)\n",
    "        \n",
    "    # Logging and storing\n",
    "    ep_rewards.append(episode_reward)\n",
    "    if not episode % AGGREGATE_STATS_EVERY or episode == 1:\n",
    "        average_reward = sum(ep_rewards[-AGGREGATE_STATS_EVERY:])/len(ep_rewards[-AGGREGATE_STATS_EVERY:])\n",
    "        min_reward = min(ep_rewards[-AGGREGATE_STATS_EVERY:])\n",
    "        max_reward = max(ep_rewards[-AGGREGATE_STATS_EVERY:])\n",
    "        agent.tensorboard.update_stats(reward_avg=average_reward, reward_min=min_reward, reward_max=max_reward, epsilon=epsilon)\n",
    "\n",
    "        # Save model, but only when min reward is greater or equal a set value\n",
    "        if min_reward >= MIN_REWARD:\n",
    "            agent.model.save(f'models/{MODEL_NAME}__{max_reward:_>7.2f}max_{average_reward:_>7.2f}avg_{min_reward:_>7.2f}min__{int(time.time())}.model')\n",
    "    \n",
    "        "
   ]
  },
  {
   "cell_type": "code",
   "execution_count": null,
   "metadata": {
    "scrolled": false
   },
   "outputs": [],
   "source": []
  },
  {
   "cell_type": "code",
   "execution_count": null,
   "metadata": {
    "scrolled": false
   },
   "outputs": [],
   "source": [
    "print(next_pos)"
   ]
  },
  {
   "cell_type": "code",
   "execution_count": null,
   "metadata": {
    "scrolled": false
   },
   "outputs": [],
   "source": []
  }
 ],
 "metadata": {
  "kernelspec": {
   "display_name": "Python 3",
   "language": "python",
   "name": "python3"
  },
  "language_info": {
   "codemirror_mode": {
    "name": "ipython",
    "version": 3
   },
   "file_extension": ".py",
   "mimetype": "text/x-python",
   "name": "python",
   "nbconvert_exporter": "python",
   "pygments_lexer": "ipython3",
   "version": "3.7.9"
  }
 },
 "nbformat": 4,
 "nbformat_minor": 4
}
