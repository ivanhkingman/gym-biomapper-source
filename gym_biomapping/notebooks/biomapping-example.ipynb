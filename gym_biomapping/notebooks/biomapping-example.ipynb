{
 "cells": [
  {
   "cell_type": "code",
   "execution_count": 1,
   "metadata": {},
   "outputs": [],
   "source": [
    "%matplotlib widget\n",
    "import datetime\n",
    "import numpy as np\n",
    "import pandas as pd\n",
    "import xarray as xr\n",
    "import time\n",
    "import gym\n",
    "import matplotlib.pyplot as plt\n",
    "import cmocean"
   ]
  },
  {
   "cell_type": "code",
   "execution_count": 6,
   "metadata": {},
   "outputs": [
    {
     "data": {
      "application/vnd.jupyter.widget-view+json": {
       "model_id": "70e98db1b5f64e6dbf7feac91295c44a",
       "version_major": 2,
       "version_minor": 0
      },
      "text/plain": [
       "Canvas(toolbar=Toolbar(toolitems=[('Home', 'Reset original view', 'home', 'home'), ('Back', 'Back to previous …"
      ]
     },
     "metadata": {},
     "output_type": "display_data"
    }
   ],
   "source": [
    "env = gym.make('gym_biomapping:perfect_info-v0', dt=120)\n",
    "fig, ax = plt.subplots()"
   ]
  },
  {
   "cell_type": "code",
   "execution_count": 7,
   "metadata": {},
   "outputs": [
    {
     "data": {
      "application/vnd.jupyter.widget-view+json": {
       "model_id": "80dffe5f87a94507961ef266d0b2080b",
       "version_major": 2,
       "version_minor": 0
      },
      "text/plain": [
       "Canvas(toolbar=Toolbar(toolitems=[('Home', 'Reset original view', 'home', 'home'), ('Back', 'Back to previous …"
      ]
     },
     "metadata": {},
     "output_type": "display_data"
    }
   ],
   "source": [
    "#env=biomapping_env.BioMapping(lon0=np.ones(1)*10.4, lat0=np.ones(1)*63.445)\n",
    "env.reset()\n",
    "env.render()"
   ]
  },
  {
   "cell_type": "code",
   "execution_count": 8,
   "metadata": {},
   "outputs": [
    {
     "name": "stdout",
     "output_type": "stream",
     "text": [
      "--- 11.273311853408813 seconds ---\n"
     ]
    }
   ],
   "source": [
    "time.sleep(1)\n",
    "start_time = time.time()\n",
    "next_pos = np.array([[29000],[19000],[0]])\n",
    "\n",
    "for i in range(100):\n",
    "    obs, reward, done, info = env.step(next_pos)\n",
    "    ind = np.unravel_index(np.argmax(obs[\"env\"]), obs[\"env\"].shape)\n",
    "    next_pos=np.array([[env.ds.xc.values[ind[1]]],[env.ds.yc.values[ind[0]]],[0]])\n",
    "\n",
    "    ax.clear()\n",
    "    ax.set_title('Observation')\n",
    "    ax.pcolormesh(obs[\"env\"],\n",
    "                           cmap=cmocean.cm.deep,\n",
    "                           shading='auto')\n",
    "    ax.plot(ind[1], ind[0], 'go')\n",
    "    fig.canvas.draw()\n",
    "    env.render()\n",
    "print(\"--- %s seconds ---\" % (time.time() - start_time))\n"
   ]
  }
 ],
 "metadata": {
  "kernelspec": {
   "display_name": "Python 3",
   "language": "python",
   "name": "python3"
  },
  "language_info": {
   "codemirror_mode": {
    "name": "ipython",
    "version": 3
   },
   "file_extension": ".py",
   "mimetype": "text/x-python",
   "name": "python",
   "nbconvert_exporter": "python",
   "pygments_lexer": "ipython3",
   "version": "3.9.0"
  }
 },
 "nbformat": 4,
 "nbformat_minor": 4
}
